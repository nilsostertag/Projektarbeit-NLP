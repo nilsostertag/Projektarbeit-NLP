{
 "cells": [
  {
   "cell_type": "markdown",
   "metadata": {},
   "source": [
    "# Abgabe zum Projekt in Natural Language Processing"
   ]
  },
  {
   "cell_type": "markdown",
   "metadata": {},
   "source": [
    "## Grundlagen"
   ]
  },
  {
   "cell_type": "markdown",
   "metadata": {},
   "source": [
    "#### Forschungsfrage\n",
    "\n",
    "\n",
    "#### Datenquelle\n",
    "Als Datenquellen verwendeten wir gescrapete Online-Rezepte von Chefkoch.de. Hierzu wendeten wir Filter für unterschiedliche Nationalküchen an und kombinierten diese untereinander zu kontinentalen Regionen. Diese Ansammlung an Weblinks wurden anschließend nach Kontinent sortiert und in einer Konfigurationsdatei (config.json) gespeichert.\n",
    "\n",
    "```json\n",
    "{\n",
    "    \"asia\": [\n",
    "        \"https://www.chefkoch.de/rs/s0t14/Asiatisch-Rezepte.html\",\n",
    "        \"https://www.chefkoch.de/rs/s0t148/Japanisch-Rezepte.html\",\n",
    "        \"https://www.chefkoch.de/rs/s0t13/Indisch-Rezepte.html\",\n",
    "        \"https://www.chefkoch.de/rs/s0t103/Tuerkisch-Rezepte.html\",\n",
    "        \"https://www.chefkoch.de/rs/s0t163/Naher-Osten-Rezepte.html\",\n",
    "        \"https://www.chefkoch.de/rs/s0t212/Russisch-Rezepte.html\"\n",
    "    ],\n",
    "    \"africa\": [\n",
    "        \"https://www.chefkoch.de/rs/s0t168/Aegyptisch-Rezepte.html\",\n",
    "        \"https://www.chefkoch.de/rs/s0t131/Marokkanisch-Rezepte.html\",\n",
    "        \"https://www.chefkoch.de/rs/s0t101/Afrikanisch-Rezepte.html\"\n",
    "    ],\n",
    "    \"northamerica\": [\n",
    "        \"https://www.chefkoch.de/rs/s0t38/Amerikanisch-Rezepte.html\",\n",
    "        \"https://www.chefkoch.de/rs/s0t74/Mexikanisch-Rezepte.html\"\n",
    "\n",
    "    ],\n",
    "    \"southamerica\": [\n",
    "        \"https://www.chefkoch.de/rs/s0t95/Karibisch-Rezepte.html\",\n",
    "        \"https://www.chefkoch.de/rs/s0t114/Lateinamerikanisch-Rezepte.html\"\n",
    "    ],\n",
    "    \"europe\": [\n",
    "        \"https://www.chefkoch.de/rs/s0t65/Deutsch-Rezepte.html\",\n",
    "        \"https://www.chefkoch.de/rs/s0t28/Italienisch-Rezepte.html\",\n",
    "        \"https://www.chefkoch.de/rs/s0t43/Spanisch-Rezepte.html\",\n",
    "        \"https://www.chefkoch.de/rs/s0t149/Portugiesisch-Rezepte.html\",\n",
    "        \"https://www.chefkoch.de/rs/s0t84/Franzoesisch-Rezepte.html\",\n",
    "        \"https://www.chefkoch.de/rs/s0t117/Englisch-Rezepte.html\",\n",
    "        \"https://www.chefkoch.de/rs/s0t86/Osteuropaeisch-Rezepte.html\",\n",
    "        \"https://www.chefkoch.de/rs/s0t133/Skandinavisch-Rezepte.html\",\n",
    "        \"https://www.chefkoch.de/rs/s0t44/Griechisch-Rezepte.html\"\n",
    "    ],\n",
    "    \"oceania\": [\n",
    "        \"https://www.chefkoch.de/rs/s0t145/Australisch-Rezepte.html\"\n",
    "    ]\n",
    "}\n",
    "```\n",
    "\n",
    "Durch einen Webcrawler wurde anschließend über die hinterlegten Links aller Regionen iteriert und alle verfügbaren URLs zu auf der entsprechenden Seite hinterlegten Rezepten gespeichert.\n",
    "Ein dedizierter Webscraper entnimmt anschließend die relevanten Informationen der jeweiligen Rezepte aller Regionen und speichert diese in einer übersichtlichen Datenstruktur wie folgt ab.\n",
    "\n",
    "#### Datenstrukturen"
   ]
  },
  {
   "cell_type": "markdown",
   "metadata": {},
   "source": [
    "### Datenimport"
   ]
  },
  {
   "cell_type": "code",
   "execution_count": 1,
   "metadata": {},
   "outputs": [
    {
     "name": "stdout",
     "output_type": "stream",
     "text": [
      "c:\\Users\\nilso\\Documents\\MLD\\2\\NLP\\Projekt\\Projektarbeit-NLP\\src\n",
      "c:\\Users\\nilso\\Documents\\MLD\\2\\NLP\\Projekt\\Projektarbeit-NLP\\src\\ipynb\n"
     ]
    },
    {
     "name": "stderr",
     "output_type": "stream",
     "text": [
      "c:\\Users\\nilso\\Documents\\MLD\\2\\NLP\\Projekt\\Projektarbeit-NLP\\.venv\\lib\\site-packages\\IPython\\core\\magics\\osm.py:417: UserWarning: This is now an optional IPython functionality, setting dhist requires you to install the `pickleshare` library.\n",
      "  self.shell.db['dhist'] = compress_dhist(dhist)[-100:]\n"
     ]
    }
   ],
   "source": [
    "# Import von packages\n",
    "\n",
    "import os\n",
    "# Ändern des Arbeitsverzeichnisses auf das übergeordnete Verzeichnis\n",
    "%cd ..\n",
    "# Jetzt können Sie das Modul relativ importieren\n",
    "from utils import data_import as di\n",
    "# Optional: Zurück zum ursprünglichen Verzeichnis wechseln\n",
    "%cd ipynb"
   ]
  },
  {
   "cell_type": "code",
   "execution_count": 1,
   "metadata": {},
   "outputs": [
    {
     "name": "stdout",
     "output_type": "stream",
     "text": [
      "19100 recipes were imported.\n"
     ]
    }
   ],
   "source": [
    "# Import von Daten\n",
    "\n",
    "import pandas as pd\n",
    "\n",
    "TARGET_PATH_IMPORT = '../../data/raw_data/scraped_recipes_raw.json'\n",
    "\n",
    "dataset = pd.read_json(TARGET_PATH_IMPORT)\n",
    "print(f'{len(dataset.payload)} recipes were imported.')"
   ]
  },
  {
   "cell_type": "markdown",
   "metadata": {},
   "source": [
    "### Vorverarbeitung"
   ]
  },
  {
   "cell_type": "markdown",
   "metadata": {},
   "source": [
    "Tokenisierung"
   ]
  },
  {
   "cell_type": "markdown",
   "metadata": {},
   "source": [
    "Normalisierung"
   ]
  },
  {
   "cell_type": "markdown",
   "metadata": {},
   "source": [
    "Analytics (Datensichting, fehlende Werte etc)"
   ]
  },
  {
   "cell_type": "code",
   "execution_count": null,
   "metadata": {},
   "outputs": [],
   "source": [
    "import plotly.express as px"
   ]
  },
  {
   "cell_type": "markdown",
   "metadata": {},
   "source": [
    "### Datenverarbeitung"
   ]
  },
  {
   "cell_type": "markdown",
   "metadata": {},
   "source": [
    "Information Retrieval (Vektorisierung, Count vectorizer, tf/idf, zipf-luhn)"
   ]
  },
  {
   "cell_type": "markdown",
   "metadata": {},
   "source": [
    "Pos-Tagging and Analysis"
   ]
  },
  {
   "cell_type": "markdown",
   "metadata": {},
   "source": [
    "Named Entity Recognition (Kookurrenzanalyse, Token-Based Matching)"
   ]
  },
  {
   "cell_type": "markdown",
   "metadata": {},
   "source": [
    "Sentimentanalyse"
   ]
  },
  {
   "cell_type": "markdown",
   "metadata": {},
   "source": []
  }
 ],
 "metadata": {
  "kernelspec": {
   "display_name": ".venv",
   "language": "python",
   "name": "python3"
  },
  "language_info": {
   "codemirror_mode": {
    "name": "ipython",
    "version": 3
   },
   "file_extension": ".py",
   "mimetype": "text/x-python",
   "name": "python",
   "nbconvert_exporter": "python",
   "pygments_lexer": "ipython3",
   "version": "3.10.11"
  }
 },
 "nbformat": 4,
 "nbformat_minor": 2
}
