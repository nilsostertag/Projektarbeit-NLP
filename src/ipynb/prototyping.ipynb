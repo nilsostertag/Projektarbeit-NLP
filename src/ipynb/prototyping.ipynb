{
 "cells": [
  {
   "cell_type": "code",
   "execution_count": 1,
   "metadata": {
    "ExecuteTime": {
     "end_time": "2024-07-15T10:59:59.401041700Z",
     "start_time": "2024-07-15T10:59:58.259122100Z"
    }
   },
   "outputs": [
    {
     "name": "stderr",
     "output_type": "stream",
     "text": [
      "C:\\Users\\phong\\.conda\\envs\\Natural Language Processing\\Lib\\site-packages\\IPython\\core\\magics\\osm.py:417: UserWarning: using dhist requires you to install the `pickleshare` library.\n",
      "  self.shell.db['dhist'] = compress_dhist(dhist)[-100:]\n"
     ]
    },
    {
     "name": "stdout",
     "output_type": "stream",
     "text": [
      "C:\\Machine Learning and Data Analytics\\NLP Projekt\\Projektarbeit-NLP\\src\n",
      "C:\\Machine Learning and Data Analytics\\NLP Projekt\\Projektarbeit-NLP\\src\\ipynb\n"
     ]
    }
   ],
   "source": [
    "import os\n",
    "# Ändern des Arbeitsverzeichnisses auf das übergeordnete Verzeichnis\n",
    "%cd ..\n",
    "# Jetzt können Sie das Modul relativ importieren\n",
    "from utils import data_import as di\n",
    "# Optional: Zurück zum ursprünglichen Verzeichnis wechseln\n",
    "%cd ipynb\n",
    "\n",
    "import pandas as pd"
   ]
  },
  {
   "cell_type": "code",
   "execution_count": 2,
   "metadata": {
    "ExecuteTime": {
     "end_time": "2024-07-15T11:00:03.009019200Z",
     "start_time": "2024-07-15T11:00:02.316280Z"
    }
   },
   "outputs": [
    {
     "name": "stdout",
     "output_type": "stream",
     "text": [
      "19100 recipes were imported.\n"
     ]
    }
   ],
   "source": [
    "TARGET_PATH_IMPORT = '../../data/raw_data/scraped_recipes_raw.json'\n",
    "\n",
    "dataset = pd.read_json(TARGET_PATH_IMPORT)\n",
    "print(f'{len(dataset.payload)} recipes were imported.')\n"
   ]
  },
  {
   "cell_type": "code",
   "execution_count": 8,
   "outputs": [],
   "source": [
    "def show(p,n):\n",
    "    j = int(round(100 * p / n))\n",
    "    print(\"{}[{}{}] {}/{}\".format(\"%\", \"#\"*int(j), \".\"*(100-j), p, n),  end='\\r', file=sys.stdout, flush=True)"
   ],
   "metadata": {
    "collapsed": false,
    "ExecuteTime": {
     "end_time": "2024-07-15T11:29:23.165998Z",
     "start_time": "2024-07-15T11:29:23.152984900Z"
    }
   }
  },
  {
   "cell_type": "code",
   "execution_count": 2,
   "metadata": {
    "ExecuteTime": {
     "end_time": "2024-07-15T11:00:04.736377700Z",
     "start_time": "2024-07-15T11:00:04.707372600Z"
    }
   },
   "outputs": [],
   "source": []
  },
  {
   "cell_type": "code",
   "execution_count": 10,
   "metadata": {
    "ExecuteTime": {
     "end_time": "2024-07-15T11:37:20.992043300Z",
     "start_time": "2024-07-15T11:31:49.214642200Z"
    }
   },
   "outputs": [
    {
     "name": "stdout",
     "output_type": "stream",
     "text": [
      "%[####################################################################################################] 19099/19100\r"
     ]
    },
    {
     "data": {
      "text/plain": "                                             payload\n0  {'region': 'asia', 'recipe_id': '6305102292969...\n1  {'region': 'asia', 'recipe_id': '2826671434712...\n2  {'region': 'asia', 'recipe_id': '2766911428603...\n3  {'region': 'asia', 'recipe_id': '4607711391857...\n4  {'region': 'asia', 'recipe_id': '3618671544190...",
      "text/html": "<div>\n<style scoped>\n    .dataframe tbody tr th:only-of-type {\n        vertical-align: middle;\n    }\n\n    .dataframe tbody tr th {\n        vertical-align: top;\n    }\n\n    .dataframe thead th {\n        text-align: right;\n    }\n</style>\n<table border=\"1\" class=\"dataframe\">\n  <thead>\n    <tr style=\"text-align: right;\">\n      <th></th>\n      <th>payload</th>\n    </tr>\n  </thead>\n  <tbody>\n    <tr>\n      <th>0</th>\n      <td>{'region': 'asia', 'recipe_id': '6305102292969...</td>\n    </tr>\n    <tr>\n      <th>1</th>\n      <td>{'region': 'asia', 'recipe_id': '2826671434712...</td>\n    </tr>\n    <tr>\n      <th>2</th>\n      <td>{'region': 'asia', 'recipe_id': '2766911428603...</td>\n    </tr>\n    <tr>\n      <th>3</th>\n      <td>{'region': 'asia', 'recipe_id': '4607711391857...</td>\n    </tr>\n    <tr>\n      <th>4</th>\n      <td>{'region': 'asia', 'recipe_id': '3618671544190...</td>\n    </tr>\n  </tbody>\n</table>\n</div>"
     },
     "metadata": {},
     "output_type": "display_data"
    }
   ],
   "source": [
    "#Tokenisierung\n",
    " \n",
    "import spacy\n",
    "\n",
    "df = pd.read_json(TARGET_PATH_IMPORT)\n",
    "\n",
    "\n",
    "nlp = spacy.load('de_core_news_sm')\n",
    "\n",
    "def tokenize(text):\n",
    "    doc = nlp(text)\n",
    "    preprocessed_tokens = [token.lemma_.lower() for token in doc if not token.is_stop and not token.is_digit and token.is_alpha]\n",
    "    return preprocessed_tokens\n",
    "\n",
    "for i in range(0, len(df)):\n",
    "    buffer_text = df['payload'][i]['preparation']\n",
    "    preprocessed_tokens = tokenize(buffer_text)\n",
    "    df['payload'][i]['preprocessed_tokens'] = preprocessed_tokens\n",
    "    show(i, len(df))\n",
    "    \n",
    "display(df.head())\n",
    "\n",
    "\n"
   ]
  },
  {
   "cell_type": "code",
   "execution_count": 14,
   "metadata": {
    "ExecuteTime": {
     "end_time": "2024-07-15T13:37:54.850731600Z",
     "start_time": "2024-07-15T13:37:53.154643700Z"
    }
   },
   "outputs": [
    {
     "name": "stdout",
     "output_type": "stream",
     "text": [
      "       payload\n",
      "0         True\n",
      "1         True\n",
      "2         True\n",
      "3         True\n",
      "4         True\n",
      "...        ...\n",
      "19095     True\n",
      "19096     True\n",
      "19097     True\n",
      "19098     True\n",
      "19099     True\n",
      "\n",
      "[19100 rows x 1 columns]\n"
     ]
    }
   ],
   "source": [
    "#als json speichern ohne indizes\n",
    "df.to_json('../../data/raw_data/scraped_recipes_raw_tokenized.json', orient='records')\n",
    "\n"
   ]
  },
  {
   "cell_type": "code",
   "execution_count": null,
   "outputs": [],
   "source": [
    "dfs = pd.read_json('../../data/raw_data/scraped_recipes_raw_tokenized.json', orient='records')\n"
   ],
   "metadata": {
    "collapsed": false
   }
  }
 ],
 "metadata": {
  "kernelspec": {
   "display_name": ".venv",
   "language": "python",
   "name": "python3"
  },
  "language_info": {
   "codemirror_mode": {
    "name": "ipython",
    "version": 3
   },
   "file_extension": ".py",
   "mimetype": "text/x-python",
   "name": "python",
   "nbconvert_exporter": "python",
   "pygments_lexer": "ipython3",
   "version": "3.10.11"
  }
 },
 "nbformat": 4,
 "nbformat_minor": 2
}
